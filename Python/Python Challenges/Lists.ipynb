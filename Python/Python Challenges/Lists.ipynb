{
 "cells": [
  {
   "attachments": {},
   "cell_type": "markdown",
   "metadata": {},
   "source": [
    "### Append Size\n",
    "\n",
    "For the first code challenge, we are going to calculate the length of a list and then append the value to the end of the list. Here is what we need to do:\n",
    "\n",
    "1.  Define the function to accept one parameter for our list\n",
    "2.  Get the length of the list\n",
    "3.  Append the length of the list to the end of the list\n",
    "4.  Return the modified list\n",
    "\n",
    "**Coding question**\n",
    "\n",
    "Create a function called `append_size` that has one parameter named `my_list`.\n",
    "\n",
    "The function should append the size of `my_list` (inclusive) to the end of `my_list`. The function should then return this new list.\n",
    "\n",
    "For example, if `my_list` was `[23, 42, 108]`, the function should return `[23, 42, 108, 3]` because the size of `my_list` was originally `3`."
   ]
  },
  {
   "cell_type": "code",
   "execution_count": null,
   "metadata": {},
   "outputs": [],
   "source": [
    "#Write your function here\n",
    "def append_size(my_list):\n",
    "  my_list.append(len(my_list))\n",
    "  return my_list\n",
    "\n",
    "#Uncomment the line below when your function is done\n",
    "print(append_size([23, 42, 108]))"
   ]
  },
  {
   "attachments": {},
   "cell_type": "markdown",
   "metadata": {},
   "source": [
    "### Append Sum\n",
    "\n",
    "Let’s create a function that calculates the sum of the last two elements of a list and appends it to the end. After doing so, it will repeat this process two more times and return the resulting list. You can choose to use a loop or manually use three lines. Here are the steps we need:\n",
    "\n",
    "1.  Define the function to accept one parameter for our list of numbers\n",
    "2.  Add the last and second-to-last elements from our list together\n",
    "3.  Append the calculated value to the end of our list.\n",
    "4.  Repeat steps 2 and 3 two more times\n",
    "5.  Return the modified list\n",
    "\n",
    "**Coding question**\n",
    "\n",
    "Write a function named `append_sum` that has one parameter — a list named named `my_list`.\n",
    "\n",
    "The function should add the last two elements of `my_list` together and append the result to `my_list`. It should do this process three times and then return `my_list`.\n",
    "\n",
    "For example, if `my_list` started as `[1, 1, 2]`, the final result should be `[1, 1, 2, 3, 5, 8]`."
   ]
  },
  {
   "cell_type": "code",
   "execution_count": null,
   "metadata": {},
   "outputs": [],
   "source": [
    "#Write your function here\n",
    "def append_sum(my_list):\n",
    "  for _ in range(3):\n",
    "    my_list.append(my_list[-2] + my_list[-1])\n",
    "    \n",
    "  return my_list\n",
    "#Uncomment the line below when your function is done\n",
    "print(append_sum([1, 1, 2]))"
   ]
  },
  {
   "attachments": {},
   "cell_type": "markdown",
   "metadata": {},
   "source": [
    "###  Larger List\n",
    "\n",
    "Let’s say we are working with two conveyor belts that contain items represented by a numerical ID. If one conveyor belt contains more items than the other, then we need to return the ID of the last item on that belt. In the case where they have the same number of items, return the last item from the first conveyor belt. In our code, we can represent the belts using lists. Here are the steps:\n",
    "\n",
    "1.  Define the function to accept two parameters for our two lists of numbers\n",
    "2.  Check if the length of the first list is greater than or equal to the length of the second list\n",
    "3.  If true, then return the last element from the first list. Otherwise, return the last element from the second list\n",
    "\n",
    "**Coding question**\n",
    "\n",
    "Write a function named `larger_list` that has two parameters named `my_list1` and `my_list2`.\n",
    "\n",
    "The function should return the last element of the list that contains more elements. If both lists are the same size, then return the last element of `my_list1`."
   ]
  },
  {
   "cell_type": "code",
   "execution_count": null,
   "metadata": {},
   "outputs": [],
   "source": [
    "#Write your function here\n",
    "def larger_list(my_list1, my_list2):\n",
    "  return my_list1[-1] if len(my_list1) >= len(my_list2) else my_list2[-1]\n",
    "\n",
    "#Uncomment the line below when your function is done\n",
    "print(larger_list([4, 10, 2, 5], [-10, 2, 5, 10]))"
   ]
  },
  {
   "attachments": {},
   "cell_type": "markdown",
   "metadata": {},
   "source": [
    "### More Than N\n",
    "\n",
    "Our factory produces a variety of different flavored snacks and we want to check the number of instances of a certain type. We have a conveyor belt full of different types of snacks represented by different numbers. Our function will accept a list of numbers (representing the type of snack), a number for the second parameter (the type of snack we are looking for), and another number as the third parameter (the maximum number of that type of snack on the conveyor belt). The function will return `True` if the snack we are searching for appears more times than we provided as our third parameter. These are the steps we need:\n",
    "\n",
    "1.  Define the function to accept three parameters, a list of numbers, a number to look for, and a number for the number of instances\n",
    "2.  Count the number of occurrences of `item` (the second parameter) in `my_list` (the first parameter)\n",
    "3.  If the number of occurrences is greater than `n` (the third parameter), return `True`. Otherwise, return `False`\n",
    "\n",
    "**Coding question**\n",
    "\n",
    "Create a function named `more_than_n` that has three parameters named `my_list`, `item`, and `n`.\n",
    "\n",
    "The function should return `True` if `item` appears in the list more than `n` times. The function should return `False` otherwise."
   ]
  },
  {
   "cell_type": "code",
   "execution_count": null,
   "metadata": {},
   "outputs": [],
   "source": [
    "#Write your function here\n",
    "def more_than_n(my_list, item, n):\n",
    "  return my_list.count(item) > n\n",
    "\n",
    "#Uncomment the line below when your function is done\n",
    "print(more_than_n([2, 4, 6, 2, 3, 2, 1, 2], 2, 3))"
   ]
  },
  {
   "attachments": {},
   "cell_type": "markdown",
   "metadata": {},
   "source": [
    "### Combine Sort\n",
    "\n",
    "Finally, let’s create a function that combines two different lists together and then sorts them. To do this we can combine the lists with an operation and then sort using a function call. Here are the steps we need to use:\n",
    "\n",
    "1.  Define the function to accept two parameters, one for each list.\n",
    "2.  Combine the two lists together\n",
    "3.  Sort the result\n",
    "4.  Return the sorted and combined list\n",
    "\n",
    "**Coding question**\n",
    "\n",
    "Write a function named `combine_sort` that has two parameters named `my_list1` and `my_list2`.\n",
    "\n",
    "The function should combine these two lists into one new list and sort the result. Return the new sorted list."
   ]
  },
  {
   "cell_type": "code",
   "execution_count": null,
   "metadata": {},
   "outputs": [],
   "source": [
    "#Write your function here\n",
    "def combine_sort(my_list1, my_list2):\n",
    "  combined_list = sorted(my_list1 + my_list2)\n",
    "  return combined_list\n",
    "\n",
    "#Uncomment the line below when your function is done\n",
    "print(combine_sort([4, 10, 2, 5], [-10, 2, 5, 10]))"
   ]
  }
 ],
 "metadata": {
  "kernelspec": {
   "display_name": "Python 3",
   "language": "python",
   "name": "python3"
  },
  "language_info": {
   "name": "python",
   "version": "3.11.1"
  },
  "orig_nbformat": 4,
  "vscode": {
   "interpreter": {
    "hash": "9ed1e6fda6d86882d95a3c02d2cde8bba29b91f622121bbcd350e2b190561058"
   }
  }
 },
 "nbformat": 4,
 "nbformat_minor": 2
}
