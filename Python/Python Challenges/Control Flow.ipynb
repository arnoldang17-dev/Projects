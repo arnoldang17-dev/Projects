{
 "cells": [
  {
   "attachments": {},
   "cell_type": "markdown",
   "metadata": {},
   "source": [
    "### **Large Power**\n",
    "\n",
    "For the first code challenge, we are going to create a method that tests whether the result of taking the power of one number to another number provides an answer which is greater than 5000. We will use a conditional statement to return `True` if the result is greater than 5000 or return `False` if it is not. In order to accomplish this, we will need the following steps:\n",
    "\n",
    "1.  Define the function to accept two input parameters called `base` and `exponent`\n",
    "2.  Calculate the result of `base` to the power of `exponent`\n",
    "3.  Use an `if` statement to test if the result is greater than 5000. If it is then return `True`. Otherwise, return `False`\n",
    "\n",
    "**Coding question**\n",
    "\n",
    "Create a function named `large_power()` that takes two parameters named `base` and `exponent`.\n",
    "\n",
    "If `base` raised to the `exponent` is greater than `5000`, return `True`, otherwise return `False`"
   ]
  },
  {
   "cell_type": "code",
   "execution_count": null,
   "metadata": {},
   "outputs": [],
   "source": [
    "# Write your large_power function here:\n",
    "def large_power(base, exponent):\n",
    "  return base ** exponent > 5000\n",
    "# Uncomment these function calls to test your large_power function:\n",
    "print(large_power(2, 13))\n",
    "# should print True\n",
    "print(large_power(2, 12))\n",
    "# should print False"
   ]
  },
  {
   "attachments": {},
   "cell_type": "markdown",
   "metadata": {},
   "source": [
    "### **Over Budget**\n",
    "\n",
    "Let’s say we are trying to save some money and we are watching our budget. We need to make sure that the result of our spending is less than the total amount we have allocated for each of the categories. Our function will accept a parameter called `budget` which describes our spending limit. The next four parameters describe what we are spending our money on. We need to sum all of our spendings and compare it to the budget. If we have gone over budget, we will return `True`. Otherwise we return `False`. Here are the steps we need:\n",
    "\n",
    "1.  Define the function to accept five parameters starting with `budget` then `food_bill`, `electricity_bill`, `internet_bill`, and `rent`\n",
    "2.  Calculate the sum of the last four parameters\n",
    "3.  Use `if` and `else` statements to test if the budget is less than the sum of the calculated sum from the previous step.\n",
    "4.  If the condition is true, return `True` otherwise return `False`\n",
    "\n",
    "**Coding question**\n",
    "\n",
    "Create a function called `over_budget` that has five parameters named `budget`, `food_bill`, `electricity_bill`, `internet_bill`, and `rent`.\n",
    "\n",
    "The function should return `True` if `budget` is less than the sum of the other four parameters — you’ve gone over budget! Return `False` otherwise."
   ]
  },
  {
   "cell_type": "code",
   "execution_count": null,
   "metadata": {},
   "outputs": [],
   "source": [
    "# Write your over_budget function here:\n",
    "def over_budget(budget, food_bill, electricity_bill, internet_bill, rent):\n",
    "  return budget < food_bill + electricity_bill + internet_bill + rent\n",
    "# Uncomment these function calls to test your over_budget function:\n",
    "print(over_budget(100, 20, 30, 10, 40))\n",
    "# should print False\n",
    "print(over_budget(80, 20, 30, 10, 30))\n",
    "# should print True"
   ]
  },
  {
   "attachments": {},
   "cell_type": "markdown",
   "metadata": {},
   "source": [
    "### **Twice As Large**\n",
    "\n",
    "In this challenge, we will determine if one number is twice as large as another number. To do this, we will compare the first number with two times the second number. Here are the steps:\n",
    "\n",
    "1.  Define our function with two inputs `num1` and `num2`\n",
    "2.  Multiply the second input by 2\n",
    "3.  Use an `if` statement to compare the result of the last calculation with the first input\n",
    "4.  If num1 is greater then return `True` otherwise return `False`\n",
    "\n",
    "**Coding question**\n",
    "\n",
    "Create a function named `twice_as_large()` that has two parameters named `num1` and `num2`.\n",
    "\n",
    "Return `True` if `num1` is more than double `num2`. Return `False` otherwise."
   ]
  },
  {
   "cell_type": "code",
   "execution_count": null,
   "metadata": {},
   "outputs": [],
   "source": [
    "# Write your twice_as_large function here:\n",
    "def twice_as_large(num1, num2):\n",
    "  return num1 > num2 + num2\n",
    "# Uncomment these function calls to test your twice_as_large function:\n",
    "print(twice_as_large(10, 5))\n",
    "# should print False\n",
    "print(twice_as_large(11, 5))\n",
    "# should print True"
   ]
  },
  {
   "attachments": {},
   "cell_type": "markdown",
   "metadata": {},
   "source": [
    "### **Divisible By Ten**\n",
    "\n",
    "To make things a bit more challenging, we are going to create a function that determines whether or not a number is divisible by ten. A number is divisible by ten if the remainder of the number divided by 10 is 0. Using this, we can complete this function in a few steps:\n",
    "\n",
    "1.  Define the function header to accept one input `num`\n",
    "2.  Calculate the remainder of the input divided by 10 (use modulus)\n",
    "3.  Use an `if` statement to check if the remainder was 0. If the remainder was 0, return `True`, otherwise, return `False`\n",
    "\n",
    "**Coding question**\n",
    "\n",
    "Create a function called `divisible_by_ten()` that has one parameter named `num`.\n",
    "\n",
    "The function should return `True` if `num` is divisible by `10`, and `False` otherwise. Consider using modulo operator `%` to check for divisibility."
   ]
  },
  {
   "cell_type": "code",
   "execution_count": null,
   "metadata": {},
   "outputs": [],
   "source": [
    "# Write your divisible_by_ten() function here:\n",
    "\n",
    "def divisible_by_ten(num):\n",
    "    return num % 10 == 0\n",
    "\n",
    "# Uncomment these print() function calls to test your divisible_by_ten() function:\n",
    "\n",
    "print(divisible_by_ten(20))\n",
    "# should print True\n",
    "print(divisible_by_ten(25))\n",
    "# should print False"
   ]
  },
  {
   "attachments": {},
   "cell_type": "markdown",
   "metadata": {},
   "source": [
    "### **Not Sum To Ten**\n",
    "\n",
    "Finally, we are going to check if the summation of two inputs does not equal ten. Our function will accept two inputs and add them together. If the two numbers added together are not equal to ten, then we will return `True`, otherwise, we will return `False`. Here is what we need to do:\n",
    "\n",
    "1.  Define the function to accept two parameters, `num1` and `num2`\n",
    "2.  Add the two parameters together\n",
    "3.  Test if the result is not equal to 10\n",
    "4.  If the sum is not equal, return `True`, otherwise, return `False`\n",
    "\n",
    "**Coding question**\n",
    "\n",
    "Create a function named `not_sum_to_ten()` that has two parameters named `num1` and `num2`.\n",
    "\n",
    "Return `True` if `num1` and `num2` do not sum to `10`. Return `False` otherwise."
   ]
  },
  {
   "cell_type": "code",
   "execution_count": null,
   "metadata": {},
   "outputs": [],
   "source": [
    "# Write your not_sum_to_ten function here:\n",
    "def not_sum_to_ten(num1, num2):\n",
    "  return num1 + num2 != 10\n",
    "# Uncomment these function calls to test your not_sum_to_ten function:\n",
    "print(not_sum_to_ten(9, -1))\n",
    "# should print True\n",
    "print(not_sum_to_ten(9, 1))\n",
    "# should print False\n",
    "print(not_sum_to_ten(5,5))\n",
    "# should print False"
   ]
  }
 ],
 "metadata": {
  "kernelspec": {
   "display_name": "Python 3",
   "language": "python",
   "name": "python3"
  },
  "language_info": {
   "name": "python",
   "version": "3.11.1"
  },
  "orig_nbformat": 4,
  "vscode": {
   "interpreter": {
    "hash": "9ed1e6fda6d86882d95a3c02d2cde8bba29b91f622121bbcd350e2b190561058"
   }
  }
 },
 "nbformat": 4,
 "nbformat_minor": 2
}
