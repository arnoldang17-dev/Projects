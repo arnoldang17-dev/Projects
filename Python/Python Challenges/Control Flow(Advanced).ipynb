{
 "cells": [
  {
   "attachments": {},
   "cell_type": "markdown",
   "metadata": {},
   "source": [
    "### In Range\n",
    "\n",
    "Let’s start the advanced challenge problems by testing if a number falls within a certain range. We will accept three parameters where the first parameter is the number we are testing, the second parameter is the lower bound and the third parameter is the upper bound of our range. These are the steps required:\n",
    "\n",
    "1.  Define the function to accept three numbers as parameters\n",
    "2.  Test if the number is greater than or equal to the lower bound and less than or equal to the upper bound\n",
    "3.  If this is true, return `True`, otherwise, return `False`\n",
    "\n",
    "**Coding question**\n",
    "\n",
    "Create a function named `in_range()` that has three parameters named `num`, `lower`, and `upper`.\n",
    "\n",
    "The function should return `True` if `num` is greater than or equal to `lower` and less than or equal to `upper`. Otherwise, return `False`."
   ]
  },
  {
   "cell_type": "code",
   "execution_count": null,
   "metadata": {},
   "outputs": [],
   "source": [
    "# Write your in_range function here:\n",
    "def in_range(num, lower, upper):\n",
    "  return num >= lower and num <= upper\n",
    "# Uncomment these function calls to test your in_range function:\n",
    "print(in_range(10, 10, 10))\n",
    "# should print True\n",
    "print(in_range(5, 10, 20))\n",
    "# should print False"
   ]
  },
  {
   "attachments": {},
   "cell_type": "markdown",
   "metadata": {},
   "source": [
    "### Same Name\n",
    "\n",
    "We need to write a program that checks different names and determines if they are equal. We need to accept two strings and compare them. Here are the steps:\n",
    "\n",
    "1.  Define the function to accept two strings, `your_name` and `my_name`\n",
    "2.  Test if the two strings are equal\n",
    "3.  Return `True` if they are equal, otherwise return `False`\n",
    "\n",
    "**Coding question**\n",
    "\n",
    "Create a function named `same_name()` that has two parameters named `your_name` and `my_name`.\n",
    "\n",
    "If our names are identical, return `True`. Otherwise, return `False`."
   ]
  },
  {
   "cell_type": "code",
   "execution_count": null,
   "metadata": {},
   "outputs": [],
   "source": [
    "# Write your same_name function here:\n",
    "def same_name(your_name, my_name):\n",
    "  return your_name == my_name\n",
    "# Uncomment these function calls to test your same_name function:\n",
    "print(same_name(\"Colby\", \"Colby\"))\n",
    "# should print True\n",
    "print(same_name(\"Tina\", \"Amber\"))\n",
    "# should print False"
   ]
  },
  {
   "attachments": {},
   "cell_type": "markdown",
   "metadata": {},
   "source": [
    "###  Always False\n",
    "\n",
    "There are some situations that you normally want to avoid when programming using conditional statements. One example is a contradiction. This occurs when your condition will always be false no matter what value you pass into it. Let’s create an example of a function that contains a contradiction. It will contain a few steps:\n",
    "\n",
    "1.  Define the function to accept a single parameter called `num`\n",
    "2.  Use a combination of `<`, `>` and `and` to create a contradiction in an `if` statement.\n",
    "3.  If the condition is true, return `True`, otherwise return `False`. The trick here is that because we’ve written a contradiction, the condition should never be true, so we should expect to always return `False`.\n",
    "\n",
    "**Coding question**\n",
    "\n",
    "Create a function named `always_false()` that has one parameter named `num`.\n",
    "\n",
    "Using an if statement, your variable `num`, and the operators `>`, and `<`, make it so your function will return `False` no matter what number is stored in `num`.\n",
    "\n",
    "An if statement that is always false is called a contradiction. You will rarely want to do this while programming, but it is important to realize it is possible to do this."
   ]
  },
  {
   "cell_type": "code",
   "execution_count": null,
   "metadata": {},
   "outputs": [],
   "source": [
    "# Write your always_false function here:\n",
    "def always_false(num):\n",
    "  return num < 0 and num > 0\n",
    "# Uncomment these function calls to test your always_false function:\n",
    "print(always_false(0))\n",
    "# should print False\n",
    "print(always_false(-1))\n",
    "# should print False\n",
    "print(always_false(1))\n",
    "# should print False"
   ]
  },
  {
   "attachments": {},
   "cell_type": "markdown",
   "metadata": {},
   "source": [
    "### Movie Review\n",
    "\n",
    "We want to create a function that will help us rate movies. Our function will split the ratings into different ranges and tell the user how the movie was based on the movie’s rating. Here are the steps needed:\n",
    "\n",
    "1.  Define our function to accept a single number called `rating`\n",
    "2.  If the rating is equal to or less than 5, return `\"Avoid at all costs!\"`\n",
    "3.  If the rating was less than 9, return `\"This one was fun.\"`\n",
    "4.  If neither of the `if` statement conditions were met, return `\"Outstanding!\"`\n",
    "\n",
    "**Coding question**\n",
    "\n",
    "Create a function named `movie_review()` that has one parameter named `rating`.\n",
    "\n",
    "If `rating` is less than or equal to `5`, return `\"Avoid at all costs!\"`. If `rating` is between `5` and `9`, return `\"This one was fun.\"`. If `rating` is `9` or above, return `\"Outstanding!\"`"
   ]
  },
  {
   "cell_type": "code",
   "execution_count": null,
   "metadata": {},
   "outputs": [],
   "source": [
    "# Write your movie_review function here:\n",
    "def movie_review(rating):\n",
    "  if rating <= 5:\n",
    "    return \"Avoid at all costs!\"\n",
    "\n",
    "  elif rating > 5 and rating < 9:\n",
    "    return \"This one was fun.\"\n",
    "\n",
    "  else:\n",
    "    return \"Outstanding!\"\n",
    "# Uncomment these function calls to test your movie_review function:\n",
    "print(movie_review(9))\n",
    "# should print \"Outstanding!\"\n",
    "print(movie_review(4))\n",
    "# should print \"Avoid at all costs!\"\n",
    "print(movie_review(6))\n",
    "# should print \"This one was fun.\""
   ]
  },
  {
   "attachments": {},
   "cell_type": "markdown",
   "metadata": {},
   "source": [
    "### Max Number\n",
    "\n",
    "For the final challenge, we are going to select which number from three input values is the greatest using conditional statements. To do this, we need to check the different combinations of values to see which number is greater than the other two. Here is what we need to do:\n",
    "\n",
    "1.  Define a function that has three input parameters, `num1`, `num2`, and `num3`\n",
    "2.  Test if `num1` is greater than the other two numbers\n",
    "    -   If so, return `num1`\n",
    "3.  Test if `num2` is greater than the other two numbers\n",
    "    -   If so, return `num2`\n",
    "4.  Test if `num3` is greater than the other two numbers\n",
    "    -   If so, return `num3`\n",
    "5.  If there was a tie between the two largest numbers, then return `\"It's a tie!\"`\n",
    "\n",
    "**Coding question**\n",
    "\n",
    "Create a function called `max_num()` that has three parameters named `num1`, `num2`, and `num3`.\n",
    "\n",
    "The function should return the largest of these three numbers. If any of two numbers tie as the largest, you should return `\"It's a tie!\"`."
   ]
  },
  {
   "cell_type": "code",
   "execution_count": null,
   "metadata": {},
   "outputs": [],
   "source": [
    "# Write your max_num function here:\n",
    "def max_num(num1, num2, num3):\n",
    "  if num1 > num2 and num1 > num3:\n",
    "      return num1\n",
    "  elif num2 > num1 and num2 > num3:\n",
    "      return num2\n",
    "  elif num3 > num1 and num3 > num2:\n",
    "      return num3\n",
    "  else:\n",
    "      return \"It's a tie!\"\n",
    "# Uncomment these function calls to test your max_num function:\n",
    "print(max_num(-10, 0, 10))\n",
    "# should print 10\n",
    "print(max_num(-10, 5, -30))\n",
    "# should print 5\n",
    "print(max_num(-5, -10, -10))\n",
    "# should print -5\n",
    "print(max_num(2, 3, 3))\n",
    "# should print \"It's a tie!\"\n"
   ]
  }
 ],
 "metadata": {
  "kernelspec": {
   "display_name": "Python 3",
   "language": "python",
   "name": "python3"
  },
  "language_info": {
   "name": "python",
   "version": "3.11.1"
  },
  "orig_nbformat": 4,
  "vscode": {
   "interpreter": {
    "hash": "9ed1e6fda6d86882d95a3c02d2cde8bba29b91f622121bbcd350e2b190561058"
   }
  }
 },
 "nbformat": 4,
 "nbformat_minor": 2
}
