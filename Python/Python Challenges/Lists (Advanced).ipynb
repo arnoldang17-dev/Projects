{
 "cells": [
  {
   "attachments": {},
   "cell_type": "markdown",
   "metadata": {},
   "source": [
    "### Every Three Numbers\n",
    "\n",
    "Let’s start our challenging problems with a function that creates a list of numbers up to 100 in increments of 3 starting from a number that is passed to the function as an input parameter. Here is what we need to do:\n",
    "\n",
    "1.  Define the function to accept one parameter for our starting number\n",
    "2.  Calculate the numbers between the starting number and 100 while incrementing by 3\n",
    "3.  Store the numbers in a list\n",
    "4.  Return the list\n",
    "\n",
    "**Coding question**\n",
    "\n",
    "Create a function called `every_three_nums` that has one parameter named `start`.\n",
    "\n",
    "The function should return a list of every third number between `start` and `100` (inclusive). For example, `every_three_nums(91)` should return the list `[91, 94, 97, 100]`. If `start` is greater than `100`, the function should return an empty list."
   ]
  },
  {
   "cell_type": "code",
   "execution_count": null,
   "metadata": {},
   "outputs": [],
   "source": [
    "#Write your function here\n",
    "def every_three_nums(start):\n",
    "    return list(range(start, 101, 3))\n",
    "\n",
    "#Uncomment the line below when your function is done\n",
    "print(every_three_nums(91))"
   ]
  },
  {
   "attachments": {},
   "cell_type": "markdown",
   "metadata": {},
   "source": [
    "### Remove Middle\n",
    "\n",
    "Our next function will remove all elements from a list with an index within a certain range. The function will accept a list, a starting index, and an ending index. All elements with an index between the starting and ending index should be removed from the list. Here are the steps:\n",
    "\n",
    "1.  Define the function to accept three parameters: the list, the starting index, and the ending index\n",
    "2.  Get all elements before the starting index\n",
    "3.  Get all elements after the ending index\n",
    "4.  Combine the two partial lists into the result\n",
    "5.  Return the result\n",
    "\n",
    "**Coding question**\n",
    "\n",
    "Create a function named `remove_middle` which has three parameters named `my_list`, `start`, and `end`.\n",
    "\n",
    "The function should return a list where all elements in `my_list` with an index between `start` and `end` (inclusive) have been removed.\n",
    "\n",
    "For example, the following code should return `[4, 23, 42]` because elements at indices `1`, `2`, and `3` have been removed:\n",
    "\n",
    "```python\n",
    "remove_middle([4, 8 , 15, 16, 23, 42], 1, 3)\n",
    "\n",
    "```"
   ]
  },
  {
   "cell_type": "code",
   "execution_count": null,
   "metadata": {},
   "outputs": [],
   "source": [
    "#Write your function here\n",
    "def remove_middle(my_list, start, end):\n",
    "  return my_list[:start] + my_list[end+1:]\n",
    "\n",
    "#Uncomment the line below when your function is done\n",
    "print(remove_middle([4, 8, 15, 16, 23, 42], 1, 3))"
   ]
  },
  {
   "cell_type": "markdown",
   "metadata": {},
   "source": []
  }
 ],
 "metadata": {
  "kernelspec": {
   "display_name": "Python 3",
   "language": "python",
   "name": "python3"
  },
  "language_info": {
   "name": "python",
   "version": "3.11.1"
  },
  "orig_nbformat": 4,
  "vscode": {
   "interpreter": {
    "hash": "9ed1e6fda6d86882d95a3c02d2cde8bba29b91f622121bbcd350e2b190561058"
   }
  }
 },
 "nbformat": 4,
 "nbformat_minor": 2
}
